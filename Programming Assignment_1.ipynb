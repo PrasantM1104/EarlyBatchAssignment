{
 "cells": [
  {
   "cell_type": "markdown",
   "id": "818442ce",
   "metadata": {},
   "source": [
    "# Python_Programming_Assignment_1"
   ]
  },
  {
   "cell_type": "code",
   "execution_count": 1,
   "id": "2c40bd11",
   "metadata": {},
   "outputs": [
    {
     "name": "stdout",
     "output_type": "stream",
     "text": [
      "Hello Python\n"
     ]
    }
   ],
   "source": [
    "#1.Write a Python program to print \"Hello Python\"?\n",
    "\n",
    "#Ans:\n",
    "print('Hello Python')"
   ]
  },
  {
   "cell_type": "code",
   "execution_count": 4,
   "id": "7fbadfc2",
   "metadata": {},
   "outputs": [
    {
     "name": "stdout",
     "output_type": "stream",
     "text": [
      "Enter value 1: 5\n",
      "Enter value 2: 5\n",
      "Addition of 2 numbers are:  10\n",
      "Divison of first number by second number 1.0\n"
     ]
    }
   ],
   "source": [
    "#2.Write a Python program to do arithmetical operations addition and division?\n",
    "\n",
    "#Ans:\n",
    "a = int(input(\"Enter value 1: \"))\n",
    "b = int(input(\"Enter value 2: \"))\n",
    "\n",
    "print('Addition of 2 numbers are: ', a+b)\n",
    "print('Divison of first number by second number', a/b)"
   ]
  },
  {
   "cell_type": "code",
   "execution_count": 5,
   "id": "ce81497b",
   "metadata": {},
   "outputs": [
    {
     "name": "stdout",
     "output_type": "stream",
     "text": [
      "Enter the base length of triangle: 6\n",
      "Enter the height of triangle: 8\n",
      "Area of the triangle:  24.0\n"
     ]
    }
   ],
   "source": [
    "#3.Write a Python program to find the area of a triangle?\n",
    "\n",
    "base = int(input('Enter the base length of triangle: '))\n",
    "height = int(input('Enter the height of triangle: '))\n",
    "\n",
    "Area = 0.5*base*height\n",
    "print(\"Area of the triangle: \", Area)"
   ]
  },
  {
   "cell_type": "code",
   "execution_count": 9,
   "id": "a55c549e",
   "metadata": {},
   "outputs": [
    {
     "name": "stdout",
     "output_type": "stream",
     "text": [
      "Enter value of a: 5\n",
      "Enter value of b: 2\n",
      "After swapping, value of a:  2  & value of b:  5\n"
     ]
    }
   ],
   "source": [
    "#4.Write a Python program to swap two variables?\n",
    "\n",
    "a = int(input(\"Enter value of a: \"))\n",
    "b = int(input(\"Enter value of b: \"))\n",
    "\n",
    "a, b = b, a\n",
    "print('After swapping, value of a: ', a, ' & value of b: ', b)"
   ]
  },
  {
   "cell_type": "code",
   "execution_count": 3,
   "id": "a8fd98fe",
   "metadata": {},
   "outputs": [
    {
     "name": "stdout",
     "output_type": "stream",
     "text": [
      "0.3302391485754822\n",
      "37\n"
     ]
    }
   ],
   "source": [
    "#5.Write a Python program to generate a random number?\n",
    "\n",
    "import random\n",
    "\n",
    "print(random.random())\n",
    "print(random.randint(1,100))"
   ]
  }
 ],
 "metadata": {
  "kernelspec": {
   "display_name": "Python 3",
   "language": "python",
   "name": "python3"
  },
  "language_info": {
   "codemirror_mode": {
    "name": "ipython",
    "version": 3
   },
   "file_extension": ".py",
   "mimetype": "text/x-python",
   "name": "python",
   "nbconvert_exporter": "python",
   "pygments_lexer": "ipython3",
   "version": "3.8.8"
  }
 },
 "nbformat": 4,
 "nbformat_minor": 5
}
