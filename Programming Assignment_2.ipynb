{
 "cells": [
  {
   "cell_type": "markdown",
   "id": "fe7ada27",
   "metadata": {},
   "source": [
    "# Python_Programming_Assignment_2"
   ]
  },
  {
   "cell_type": "code",
   "execution_count": 1,
   "id": "9089c1d4",
   "metadata": {},
   "outputs": [
    {
     "name": "stdout",
     "output_type": "stream",
     "text": [
      "Distance in km: 10\n",
      "Distance in mile is:  6.21371\n"
     ]
    }
   ],
   "source": [
    "#1.Write a Python program to convert kilometers to miles?\n",
    "\n",
    "#Ans:\n",
    "#1 Km = 0.621371 mile\n",
    "\n",
    "d_km = int(input('Distance in km: '))\n",
    "d_mile = d_km * 0.621371\n",
    "\n",
    "print('Distance in mile is: ', d_mile)"
   ]
  },
  {
   "cell_type": "code",
   "execution_count": 2,
   "id": "e74d4dfa",
   "metadata": {},
   "outputs": [
    {
     "name": "stdout",
     "output_type": "stream",
     "text": [
      "Temperature in Celsius: 100\n",
      "Temperature in Farhenheit:  212.0\n"
     ]
    }
   ],
   "source": [
    "#2.Write a Python program to convert Celsius to Fahrenheit?\n",
    "\n",
    "#To convert Celsius to Fahrenheit: F = C * (9/5) + 32\n",
    "\n",
    "deg_C = int(input('Temperature in Celsius: '))\n",
    "deg_F = deg_C  * (9/5) + 32\n",
    "\n",
    "print(\"Temperature in Farhenheit: \", deg_F)"
   ]
  },
  {
   "cell_type": "code",
   "execution_count": 5,
   "id": "1eca8181",
   "metadata": {},
   "outputs": [
    {
     "name": "stdout",
     "output_type": "stream",
     "text": [
      "Enter the year(yyyy): 2022\n",
      "Calendar is :\n",
      "                                  2022\n",
      "\n",
      "      January                   February                   March\n",
      "Mo Tu We Th Fr Sa Su      Mo Tu We Th Fr Sa Su      Mo Tu We Th Fr Sa Su\n",
      "                1  2          1  2  3  4  5  6          1  2  3  4  5  6\n",
      " 3  4  5  6  7  8  9       7  8  9 10 11 12 13       7  8  9 10 11 12 13\n",
      "10 11 12 13 14 15 16      14 15 16 17 18 19 20      14 15 16 17 18 19 20\n",
      "17 18 19 20 21 22 23      21 22 23 24 25 26 27      21 22 23 24 25 26 27\n",
      "24 25 26 27 28 29 30      28                        28 29 30 31\n",
      "31\n",
      "\n",
      "       April                      May                       June\n",
      "Mo Tu We Th Fr Sa Su      Mo Tu We Th Fr Sa Su      Mo Tu We Th Fr Sa Su\n",
      "             1  2  3                         1             1  2  3  4  5\n",
      " 4  5  6  7  8  9 10       2  3  4  5  6  7  8       6  7  8  9 10 11 12\n",
      "11 12 13 14 15 16 17       9 10 11 12 13 14 15      13 14 15 16 17 18 19\n",
      "18 19 20 21 22 23 24      16 17 18 19 20 21 22      20 21 22 23 24 25 26\n",
      "25 26 27 28 29 30         23 24 25 26 27 28 29      27 28 29 30\n",
      "                          30 31\n",
      "\n",
      "        July                     August                  September\n",
      "Mo Tu We Th Fr Sa Su      Mo Tu We Th Fr Sa Su      Mo Tu We Th Fr Sa Su\n",
      "             1  2  3       1  2  3  4  5  6  7                1  2  3  4\n",
      " 4  5  6  7  8  9 10       8  9 10 11 12 13 14       5  6  7  8  9 10 11\n",
      "11 12 13 14 15 16 17      15 16 17 18 19 20 21      12 13 14 15 16 17 18\n",
      "18 19 20 21 22 23 24      22 23 24 25 26 27 28      19 20 21 22 23 24 25\n",
      "25 26 27 28 29 30 31      29 30 31                  26 27 28 29 30\n",
      "\n",
      "      October                   November                  December\n",
      "Mo Tu We Th Fr Sa Su      Mo Tu We Th Fr Sa Su      Mo Tu We Th Fr Sa Su\n",
      "                1  2          1  2  3  4  5  6                1  2  3  4\n",
      " 3  4  5  6  7  8  9       7  8  9 10 11 12 13       5  6  7  8  9 10 11\n",
      "10 11 12 13 14 15 16      14 15 16 17 18 19 20      12 13 14 15 16 17 18\n",
      "17 18 19 20 21 22 23      21 22 23 24 25 26 27      19 20 21 22 23 24 25\n",
      "24 25 26 27 28 29 30      28 29 30                  26 27 28 29 30 31\n",
      "31\n",
      "\n"
     ]
    }
   ],
   "source": [
    "#3.Write a Python program to display calendar?\n",
    "\n",
    "from calendar import calendar\n",
    "\n",
    "y = int(input(\"Enter the year(yyyy): \"))\n",
    "\n",
    "print(f\"Calendar is :\\n{calendar(y)}\")"
   ]
  },
  {
   "cell_type": "code",
   "execution_count": 11,
   "id": "849ce4ae",
   "metadata": {},
   "outputs": [
    {
     "name": "stdout",
     "output_type": "stream",
     "text": [
      "Enter the co-efficient of x^2: 1\n",
      "Enter the co-efficient of x: -5\n",
      "Enter the constant in eqn: 6\n",
      "Roots are real and distinct and are 3.0 and 2.0\n"
     ]
    }
   ],
   "source": [
    "#4.Write a Python program to solve quadratic equation?\n",
    "\n",
    "import math\n",
    "\n",
    "a = int(input(\"Enter the co-efficient of x^2: \"))\n",
    "b = int(input(\"Enter the co-efficient of x: \"))\n",
    "c = int(input(\"Enter the constant in eqn: \"))\n",
    "\n",
    "d = b**2 - 4*a*c\n",
    "\n",
    "if d > 0:\n",
    "    r1 = (-b + math.sqrt(d))/(2*a)\n",
    "    r2 = (-b - math.sqrt(d))/(2*a)\n",
    "    print(f\"Roots are real and distinct and are {r1} and {r2}\")\n",
    "\n",
    "elif d == 0:\n",
    "    r = (-b)/(2*a)\n",
    "    print(f\"Roots are real and equal and are {r} and {r}\")\n",
    "\n",
    "elif d < 0:\n",
    "    r = (-b)/(2*a)\n",
    "    img = math.sqrt(-d)/(2*a)\n",
    "    print(f\"Roots are complex and are ({r}+j{img}) and ({r}-j{img})\")"
   ]
  },
  {
   "cell_type": "code",
   "execution_count": 12,
   "id": "9795481c",
   "metadata": {},
   "outputs": [
    {
     "name": "stdout",
     "output_type": "stream",
     "text": [
      "Enter value for a: 4\n",
      "Enter value for b: 7\n",
      "After swapping the value of a is 7 and value of b is 4\n"
     ]
    }
   ],
   "source": [
    "#5.Write a Python program to swap two variables without temp variable?\n",
    "\n",
    "a = int(input(\"Enter value for a: \"))\n",
    "b = int(input(\"Enter value for b: \"))\n",
    "\n",
    "a, b = b, a\n",
    "\n",
    "print(f\"After swapping the value of a is {a} and value of b is {b}\")"
   ]
  },
  {
   "cell_type": "code",
   "execution_count": null,
   "id": "39233175",
   "metadata": {},
   "outputs": [],
   "source": []
  }
 ],
 "metadata": {
  "kernelspec": {
   "display_name": "Python 3",
   "language": "python",
   "name": "python3"
  },
  "language_info": {
   "codemirror_mode": {
    "name": "ipython",
    "version": 3
   },
   "file_extension": ".py",
   "mimetype": "text/x-python",
   "name": "python",
   "nbconvert_exporter": "python",
   "pygments_lexer": "ipython3",
   "version": "3.8.8"
  }
 },
 "nbformat": 4,
 "nbformat_minor": 5
}
