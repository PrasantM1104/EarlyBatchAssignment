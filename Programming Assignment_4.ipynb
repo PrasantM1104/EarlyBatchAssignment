{
 "cells": [
  {
   "cell_type": "code",
   "execution_count": 3,
   "id": "5bd4ffa4",
   "metadata": {},
   "outputs": [
    {
     "name": "stdout",
     "output_type": "stream",
     "text": [
      "Enter a number: 5\n",
      "120\n"
     ]
    }
   ],
   "source": [
    "#1.Write a Python Program to Find the Factorial of a Number?\n",
    "\n",
    "#Ans:\n",
    "\n",
    "num = int(input(\"Enter a number: \"))\n",
    "\n",
    "i = num - 1\n",
    "while i > 0:\n",
    "    num = num * i\n",
    "    i -= 1\n",
    "print(num)"
   ]
  },
  {
   "cell_type": "code",
   "execution_count": 6,
   "id": "cc79b933",
   "metadata": {},
   "outputs": [
    {
     "name": "stdout",
     "output_type": "stream",
     "text": [
      "Enter a number to display its multiplication Table: 4\n",
      "4  x  1  =  4\n",
      "4  x  2  =  8\n",
      "4  x  3  =  12\n",
      "4  x  4  =  16\n",
      "4  x  5  =  20\n",
      "4  x  6  =  24\n",
      "4  x  7  =  28\n",
      "4  x  8  =  32\n",
      "4  x  9  =  36\n",
      "4  x  10  =  40\n"
     ]
    }
   ],
   "source": [
    "#2.Write a Python Program to Display the multiplication Table?\n",
    "\n",
    "#Ans:\n",
    "num = int(input(\"Enter a number to display its multiplication Table: \"))\n",
    "\n",
    "for i in range(1,11):\n",
    "    print(num, \" x \", i, \" = \", num*i)"
   ]
  },
  {
   "cell_type": "code",
   "execution_count": 10,
   "id": "da35e345",
   "metadata": {},
   "outputs": [
    {
     "name": "stdout",
     "output_type": "stream",
     "text": [
      "Enter a number greater than 1 to display its Fibonnaci sequence: 10\n",
      "Fibonnaci series is:  [1, 2, 3, 5, 8, 13]\n"
     ]
    }
   ],
   "source": [
    "#3.Write a Python Program to Print the Fibonacci sequence?\n",
    "\n",
    "#Ans:\n",
    "val = int(input(\"Enter a number greater than 1 to display its Fibonnaci sequence: \"))\n",
    "v1 = 0\n",
    "v2 = 1\n",
    "l = []\n",
    "while v2 <= val:\n",
    "    v2, v1 = v2+v1, v2\n",
    "    l.append(v2)\n",
    "print(\"Fibonnaci series is: \", l)"
   ]
  },
  {
   "cell_type": "code",
   "execution_count": 22,
   "id": "ec27e7f4",
   "metadata": {},
   "outputs": [
    {
     "name": "stdout",
     "output_type": "stream",
     "text": [
      "Enter a number: 153\n",
      "153 is an Armstrong Number\n"
     ]
    }
   ],
   "source": [
    "#4.Write a Python Program to Check Armstrong Number?\n",
    "\n",
    "#Ans:\n",
    "num = int(input(\"Enter a number: \"))\n",
    "\n",
    "temp = num\n",
    "total = 0\n",
    "\n",
    "while temp > 0:\n",
    "    digit = temp%10\n",
    "    total = digit**3 + total\n",
    "    temp = temp//10\n",
    "if total == num:\n",
    "    print(f\"{num} is an Armstrong Number\")\n",
    "else:\n",
    "    print(f\"{num} is not an Armstrong Number\")"
   ]
  },
  {
   "cell_type": "code",
   "execution_count": 27,
   "id": "dcc7c57f",
   "metadata": {},
   "outputs": [
    {
     "name": "stdout",
     "output_type": "stream",
     "text": [
      "Enter lower bound of the interval: 1\n",
      "Enter upper bound of the interval: 1000\n",
      "[1, 153, 370, 371, 407]\n"
     ]
    }
   ],
   "source": [
    "#5.Write a Python Program to Find Armstrong Number in an Interval?\n",
    "\n",
    "#Ans:\n",
    "\n",
    "val_lower = int(input(\"Enter lower bound of the interval: \"))\n",
    "val_upper = int(input(\"Enter upper bound of the interval: \"))\n",
    "\n",
    "num_list = []\n",
    "\n",
    "if val_lower < val_upper:\n",
    "    i = val_lower\n",
    "    \n",
    "    while i <= val_upper:\n",
    "        temp = i\n",
    "        total = 0\n",
    "        while temp > 0:\n",
    "            digit = temp%10\n",
    "            total = digit**3 + total\n",
    "            temp = temp//10\n",
    "        if total == i:\n",
    "            num_list.append(i)\n",
    "        i+=1\n",
    "    else:\n",
    "        print(num_list)\n",
    "else:\n",
    "    print(\"Error! Upper bound must be greater than lower bound\")"
   ]
  },
  {
   "cell_type": "code",
   "execution_count": 28,
   "id": "aad325c0",
   "metadata": {},
   "outputs": [
    {
     "name": "stdout",
     "output_type": "stream",
     "text": [
      "Enter a number: 6\n",
      "Sum of 6 natural numbers is:  21\n"
     ]
    }
   ],
   "source": [
    "#6.Write a Python Program to Find the Sum of Natural Numbers?\n",
    "\n",
    "#Ans:\n",
    "\n",
    "num = int(input(\"Enter a number: \"))\n",
    "l = list(range(num+1))\n",
    "print(f\"Sum of {num} natural numbers is: \", sum(l))"
   ]
  }
 ],
 "metadata": {
  "kernelspec": {
   "display_name": "Python 3",
   "language": "python",
   "name": "python3"
  },
  "language_info": {
   "codemirror_mode": {
    "name": "ipython",
    "version": 3
   },
   "file_extension": ".py",
   "mimetype": "text/x-python",
   "name": "python",
   "nbconvert_exporter": "python",
   "pygments_lexer": "ipython3",
   "version": "3.8.8"
  }
 },
 "nbformat": 4,
 "nbformat_minor": 5
}
