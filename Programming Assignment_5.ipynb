{
 "cells": [
  {
   "cell_type": "raw",
   "id": "7dbb9c0b",
   "metadata": {},
   "source": [
    "1.\tWrite a Python Program to Find LCM?\n",
    "2.\tWrite a Python Program to Find HCF?\n",
    "3.\tWrite a Python Program to Convert Decimal to Binary, Octal and Hexadecimal?\n",
    "4.\tWrite a Python Program To Find ASCII value of a character?\n",
    "5.\tWrite a Python Program to Make a Simple Calculator with 4 basic mathematical operations?\n"
   ]
  },
  {
   "cell_type": "code",
   "execution_count": 1,
   "id": "87ddabc7",
   "metadata": {},
   "outputs": [
    {
     "name": "stdout",
     "output_type": "stream",
     "text": [
      "Enter number 1: 4\n",
      "Enter number 2: 6\n",
      "LCM of 4 and 6 is 12\n"
     ]
    }
   ],
   "source": [
    "#1.Write a Python Program to Find LCM?\n",
    "\n",
    "#Ans:\n",
    "\n",
    "val_1 = int(input(\"Enter number 1: \"))\n",
    "val_2 = int(input(\"Enter number 2: \"))\n",
    "\n",
    "if val_1 > val_2:\n",
    "    greater = val_1\n",
    "else:\n",
    "    greater = val_2\n",
    "\n",
    "while True:\n",
    "    if greater%val_1 == 0 and greater%val_2 == 0:\n",
    "        print(f\"LCM of {val_1} and {val_2} is {greater}\")\n",
    "        break\n",
    "    else:\n",
    "        greater+=1\n",
    "    "
   ]
  },
  {
   "cell_type": "code",
   "execution_count": 1,
   "id": "7fdbdd02",
   "metadata": {},
   "outputs": [
    {
     "name": "stdout",
     "output_type": "stream",
     "text": [
      "Enter number 1: 24\n",
      "Enter number 2: 16\n",
      "HCF of 24 and 16 is: 8\n"
     ]
    }
   ],
   "source": [
    "#2.Write a Python Program to Find HCF?\n",
    "\n",
    "#Ans:\n",
    "val_1 = int(input(\"Enter number 1: \"))\n",
    "val_2 = int(input(\"Enter number 2: \"))\n",
    "\n",
    "if val_1 > val_2:\n",
    "    lower = val_2\n",
    "else:\n",
    "    lower = val_1\n",
    "    \n",
    "while True:\n",
    "    if val_1%lower == 0 and val_2%lower == 0:\n",
    "        print(f\"HCF of {val_1} and {val_2} is: {lower}\")\n",
    "        break\n",
    "    else:\n",
    "        lower-=1"
   ]
  },
  {
   "cell_type": "code",
   "execution_count": 7,
   "id": "8fa31462",
   "metadata": {},
   "outputs": [
    {
     "name": "stdout",
     "output_type": "stream",
     "text": [
      "Enter a number: 168\n",
      "Binary of number 168 is: 10101000\n",
      "Octal of number 168 is: 250\n",
      "Hexadecimal of number 168 is: 108\n",
      "Through inbuilt function: \n",
      "Binary value is : 0b10101000 \n",
      "Octal value is : 0o250 \n",
      "Hexadecimal value is : 0xa8 \n"
     ]
    }
   ],
   "source": [
    "#3.Write a Python Program to Convert Decimal to Binary, Octal and Hexadecimal?\n",
    "\n",
    "#Ans:\n",
    "\n",
    "#Decimal to Binary\n",
    "\n",
    "val = int(input(\"Enter a number: \"))\n",
    "\n",
    "temp_bin = temp_oct = temp_hexa = val\n",
    "\n",
    "binary = octal = hexa = ''\n",
    "\n",
    "while temp_bin > 0:\n",
    "    binary = str(temp_bin%2) + binary\n",
    "    temp_bin = temp_bin//2\n",
    "print(f\"Binary of number {val} is: {binary}\")\n",
    "\n",
    "\n",
    "while temp_oct > 0:\n",
    "    octal = str(temp_oct%8) + octal\n",
    "    temp_oct = temp_oct//8\n",
    "print(f\"Octal of number {val} is: {octal}\")\n",
    "\n",
    "while temp_hexa > 0:\n",
    "    hexa_val = str(temp_hexa%16)\n",
    "    if hexa_val in ['10', '11', '12', '13', '14', '15']:\n",
    "        \n",
    "    hexa = str() + hexa\n",
    "    temp_hexa = temp_hexa//16\n",
    "print(f\"Hexadecimal of number {val} is: {hexa}\")\n",
    "\n",
    "print(f\"Through inbuilt function: \\nBinary value is : {bin(val)} \\nOctal value is : {oct(val)} \\nHexadecimal value is : {hex(val)} \")"
   ]
  },
  {
   "cell_type": "code",
   "execution_count": null,
   "id": "5c0eb641",
   "metadata": {},
   "outputs": [],
   "source": []
  }
 ],
 "metadata": {
  "kernelspec": {
   "display_name": "Python 3",
   "language": "python",
   "name": "python3"
  },
  "language_info": {
   "codemirror_mode": {
    "name": "ipython",
    "version": 3
   },
   "file_extension": ".py",
   "mimetype": "text/x-python",
   "name": "python",
   "nbconvert_exporter": "python",
   "pygments_lexer": "ipython3",
   "version": "3.8.8"
  }
 },
 "nbformat": 4,
 "nbformat_minor": 5
}
