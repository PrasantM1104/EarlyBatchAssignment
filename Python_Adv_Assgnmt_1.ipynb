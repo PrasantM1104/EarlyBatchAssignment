{
 "cells": [
  {
   "cell_type": "markdown",
   "id": "873aafa9",
   "metadata": {},
   "source": [
    "# Python_Advance_Assignment_1"
   ]
  },
  {
   "cell_type": "raw",
   "id": "5955025b",
   "metadata": {},
   "source": [
    "Q1. What is the purpose of Python's OOP?\n",
    "Q2. Where does an inheritance search look for an attribute?\n",
    "Q3. How do you distinguish between a class object and an instance object?\n",
    "Q4. What makes the first argument in a class’s method function special?\n",
    "Q5. What is the purpose of the __init__ method?\n",
    "Q6. What is the process for creating a class instance?\n",
    "Q7. What is the process for creating a class?\n",
    "Q8. How would you define the superclasses of a class?"
   ]
  },
  {
   "cell_type": "code",
   "execution_count": null,
   "id": "b34418a5",
   "metadata": {},
   "outputs": [],
   "source": [
    "#Q1. What is the purpose of Python's OOP?\n",
    "\n",
    "#Ans:\n",
    "\"\"\"\n",
    "Object Oriented Programming or OOP is a modular programming concept that uses the class and object to bring \n",
    "structure to code and enhance code reusability.\n",
    "\"\"\""
   ]
  }
 ],
 "metadata": {
  "kernelspec": {
   "display_name": "Python 3",
   "language": "python",
   "name": "python3"
  },
  "language_info": {
   "codemirror_mode": {
    "name": "ipython",
    "version": 3
   },
   "file_extension": ".py",
   "mimetype": "text/x-python",
   "name": "python",
   "nbconvert_exporter": "python",
   "pygments_lexer": "ipython3",
   "version": "3.8.8"
  }
 },
 "nbformat": 4,
 "nbformat_minor": 5
}
